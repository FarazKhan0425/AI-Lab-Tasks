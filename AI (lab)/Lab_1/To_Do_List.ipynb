{
 "cells": [
  {
   "cell_type": "code",
   "execution_count": 1,
   "metadata": {},
   "outputs": [
    {
     "name": "stdout",
     "output_type": "stream",
     "text": [
      "Hello World\n"
     ]
    }
   ],
   "source": [
    "print(\"Hello World\")"
   ]
  },
  {
   "cell_type": "code",
   "execution_count": 2,
   "metadata": {},
   "outputs": [
    {
     "name": "stdout",
     "output_type": "stream",
     "text": [
      "1. To Do Task\n",
      "2. Add Task\n",
      "3. Remove Task\n",
      "No tasks available.\n",
      "1. To Do Task\n",
      "2. Add Task\n",
      "3. Remove Task\n",
      "Task added successfully\n",
      "1. To Do Task\n",
      "2. Add Task\n",
      "3. Remove Task\n",
      "Invalid choice, please try again.\n",
      "1. To Do Task\n",
      "2. Add Task\n",
      "3. Remove Task\n",
      "Invalid choice, please try again.\n",
      "1. To Do Task\n",
      "2. Add Task\n",
      "3. Remove Task\n",
      "Invalid choice, please try again.\n",
      "1. To Do Task\n",
      "2. Add Task\n",
      "3. Remove Task\n",
      "Your Tasks:\n",
      "1. Assignment\n",
      "1. To Do Task\n",
      "2. Add Task\n",
      "3. Remove Task\n"
     ]
    }
   ],
   "source": [
    "class To_Do_List():\n",
    "    def __init__(self):\n",
    "        self.tasks = []\n",
    "\n",
    "    def All_Tasks(self):\n",
    "        if not self.tasks:\n",
    "            print(\"No tasks available.\")\n",
    "        else:\n",
    "            print(\"Your Tasks:\")\n",
    "            for i, task in enumerate(self.tasks, 1):\n",
    "                print(f\"{i}. {task}\")\n",
    "\n",
    "    def Add_Tasks(self):\n",
    "        New_Task = input(\"Enter a Task: \")\n",
    "        if New_Task in self.tasks:\n",
    "            print(\"Task already exists\")\n",
    "            return\n",
    "        else:\n",
    "            self.tasks.append(New_Task)\n",
    "            print(\"Task added successfully\")\n",
    "\n",
    "    def Remove_Tasks(self):\n",
    "        if not self.tasks:\n",
    "            print(\"There are no tasks to remove.\")\n",
    "        else:\n",
    "            self.All_Tasks()\n",
    "            try:\n",
    "                task_num = int(input(\"Enter the task number to remove: \"))\n",
    "                removed_task = self.tasks.pop(task_num - 1)\n",
    "                print(f\"Task '{removed_task}' removed successfully.\")\n",
    "            except (ValueError, IndexError):\n",
    "                print(\"Invalid task number.\")\n",
    "\n",
    "Tasks = To_Do_List()\n",
    "while True:\n",
    "    print(\"1. To Do Task\")\n",
    "    print(\"2. Add Task\")\n",
    "    print(\"3. Remove Task\")\n",
    "    choice = input(\"Enter your choice: \").strip()\n",
    "\n",
    "    if choice == \"1\":\n",
    "        Tasks.All_Tasks()\n",
    "    elif choice == \"2\":\n",
    "        Tasks.Add_Tasks()\n",
    "    elif choice == \"3\":\n",
    "        Tasks.Remove_Tasks()\n",
    "    else:\n",
    "        print(\"Invalid choice, please try again.\")\n"
   ]
  },
  {
   "cell_type": "code",
   "execution_count": null,
   "metadata": {},
   "outputs": [],
   "source": []
  }
 ],
 "metadata": {
  "kernelspec": {
   "display_name": "Python 3",
   "language": "python",
   "name": "python3"
  },
  "language_info": {
   "codemirror_mode": {
    "name": "ipython",
    "version": 3
   },
   "file_extension": ".py",
   "mimetype": "text/x-python",
   "name": "python",
   "nbconvert_exporter": "python",
   "pygments_lexer": "ipython3",
   "version": "3.12.6"
  }
 },
 "nbformat": 4,
 "nbformat_minor": 2
}
