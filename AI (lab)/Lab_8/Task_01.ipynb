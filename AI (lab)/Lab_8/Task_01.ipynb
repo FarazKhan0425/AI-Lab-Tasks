{
 "cells": [
  {
   "cell_type": "code",
   "execution_count": 1,
   "metadata": {},
   "outputs": [],
   "source": [
    "# Code of \"Min Max Algorithm\""
   ]
  },
  {
   "cell_type": "code",
   "execution_count": 2,
   "metadata": {},
   "outputs": [],
   "source": [
    "import math"
   ]
  },
  {
   "cell_type": "code",
   "execution_count": 6,
   "metadata": {},
   "outputs": [
    {
     "name": "stdout",
     "output_type": "stream",
     "text": [
      "The optimal value is: 2\n"
     ]
    }
   ],
   "source": [
    "def minimax(curdepth,nodeIndex,max_turn,scores,tgdepth):\n",
    "    if (curdepth == tgdepth):\n",
    "        return scores[nodeIndex]\n",
    "    \n",
    "    if(max_turn):\n",
    "        return max(minimax(curdepth + 1, nodeIndex * 2, False, scores, tgdepth),\n",
    "           minimax(curdepth + 1, nodeIndex * 2 + 1, False, scores, tgdepth))\n",
    "\n",
    "    else:\n",
    "        return min(minimax(curdepth + 1, nodeIndex * 2, True, scores, tgdepth),\n",
    "           minimax(curdepth + 1, nodeIndex * 2 + 1, True, scores, tgdepth))\n",
    "\n",
    "\n",
    "scores = [3,2,8,0]\n",
    "tree_depth = math.log(len(scores),2)\n",
    "print(\"The optimal value is:\", minimax(0, 0, True, scores, tree_depth))"
   ]
  },
  {
   "cell_type": "code",
   "execution_count": null,
   "metadata": {},
   "outputs": [],
   "source": []
  }
 ],
 "metadata": {
  "kernelspec": {
   "display_name": "Python 3",
   "language": "python",
   "name": "python3"
  },
  "language_info": {
   "codemirror_mode": {
    "name": "ipython",
    "version": 3
   },
   "file_extension": ".py",
   "mimetype": "text/x-python",
   "name": "python",
   "nbconvert_exporter": "python",
   "pygments_lexer": "ipython3",
   "version": "3.12.7"
  }
 },
 "nbformat": 4,
 "nbformat_minor": 2
}
