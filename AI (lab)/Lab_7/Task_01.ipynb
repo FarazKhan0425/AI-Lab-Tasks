{
 "cells": [
  {
   "cell_type": "code",
   "execution_count": 1,
   "metadata": {},
   "outputs": [],
   "source": [
    "#  Code of A* Algorithm (without importing any library)\n",
    "\n",
    "# the main formula for this algo is f(n) = g(n) + h(n)"
   ]
  },
  {
   "cell_type": "code",
   "execution_count": 2,
   "metadata": {},
   "outputs": [
    {
     "name": "stdout",
     "output_type": "stream",
     "text": [
      "Path found: [(0, 0), (1, 0), (2, 1), (3, 2), (3, 3), (4, 4), (4, 5)]\n"
     ]
    }
   ],
   "source": [
    "class Node:\n",
    "    def __init__(self, position, parent=None):\n",
    "        self.position = position \n",
    "        self.parent = parent    \n",
    "        self.g = 0          \n",
    "        self.h = 0               \n",
    "        self.f = 0            \n",
    "\n",
    "def astar(start, goal, grid):\n",
    "\n",
    "\n",
    "    start_node = Node(start)\n",
    "    goal_node = Node(goal)\n",
    "\n",
    "    open_list = [start_node]\n",
    "    closed_list = []\n",
    "\n",
    "\n",
    "    directions = [(0, -1), (0, 1), (-1, 0), (1, 0), (-1, -1), (-1, 1), (1, -1), (1, 1)]\n",
    "\n",
    "    while open_list:\n",
    "        open_list.sort(key=lambda node: node.f)\n",
    "        current_node = open_list.pop(0)\n",
    "        closed_list.append(current_node)\n",
    "\n",
    "        if current_node.position == goal_node.position:\n",
    "            path = []\n",
    "            while current_node is not None:\n",
    "                path.append(current_node.position)\n",
    "                current_node = current_node.parent\n",
    "            return path[::-1] \n",
    "\n",
    " \n",
    "        children = []\n",
    "        for direction in directions:\n",
    "            new_position = (current_node.position[0] + direction[0], current_node.position[1] + direction[1])\n",
    "\n",
    "            if new_position[0] < 0 or new_position[0] >= len(grid) or new_position[1] < 0 or new_position[1] >= len(grid[0]):\n",
    "                continue\n",
    "            if grid[new_position[0]][new_position[1]] != 0:\n",
    "                continue\n",
    "\n",
    "            child_node = Node(new_position, current_node)\n",
    "            children.append(child_node)\n",
    "\n",
    "        for child in children:\n",
    "\n",
    "            if child in closed_list:\n",
    "                continue\n",
    "\n",
    "            child.g = current_node.g + 1\n",
    "            child.h = abs(child.position[0] - goal_node.position[0]) + abs(child.position[1] - goal_node.position[1]) \n",
    "            child.f = child.g + child.h\n",
    "\n",
    "            if any(open_node.position == child.position and open_node.f <= child.f for open_node in open_list):\n",
    "                continue\n",
    "\n",
    "            open_list.append(child)\n",
    "\n",
    "    return None \n",
    "\n",
    "\n",
    "if __name__ == \"__main__\":\n",
    "    grid = [\n",
    "        [0, 1, 0, 0, 0, 0],\n",
    "        [0, 1, 0, 1, 1, 0],\n",
    "        [0, 0, 0, 1, 0, 0],\n",
    "        [0, 1, 0, 0, 0, 1],\n",
    "        [0, 0, 0, 1, 0, 0]\n",
    "    ]\n",
    "\n",
    "    start = (0, 0)  \n",
    "    goal = (4, 5) \n",
    "\n",
    "    path = astar(start, goal, grid)\n",
    "    if path:\n",
    "        print(\"Path found:\", path)\n",
    "    else:\n",
    "        print(\"No path found.\")\n"
   ]
  },
  {
   "cell_type": "code",
   "execution_count": null,
   "metadata": {},
   "outputs": [],
   "source": []
  }
 ],
 "metadata": {
  "kernelspec": {
   "display_name": "Python 3",
   "language": "python",
   "name": "python3"
  },
  "language_info": {
   "codemirror_mode": {
    "name": "ipython",
    "version": 3
   },
   "file_extension": ".py",
   "mimetype": "text/x-python",
   "name": "python",
   "nbconvert_exporter": "python",
   "pygments_lexer": "ipython3",
   "version": "3.12.7"
  }
 },
 "nbformat": 4,
 "nbformat_minor": 2
}
