{
 "cells": [
  {
   "cell_type": "code",
   "execution_count": 1,
   "metadata": {},
   "outputs": [
    {
     "name": "stdout",
     "output_type": "stream",
     "text": [
      "Player 1 Output is: Buzz\n",
      "player 2 output is: Fizz\n",
      "Player 1 Lost the Game\n",
      "Player 2 is the winner!\n"
     ]
    }
   ],
   "source": [
    "def fizz_buzz_game(pl1,pl2):\n",
    "    def for_both(num):\n",
    "        if num % 3 == 0 and num % 5 == 0:\n",
    "            return \"Fizz Buzz\"\n",
    "        elif num % 3 == 0:\n",
    "            return \"Fizz\"\n",
    "        elif num % 5 == 0:\n",
    "            return \"Buzz\"\n",
    "        else:\n",
    "            return None\n",
    "    pl1_output = for_both(pl1)\n",
    "    pl2_output = for_both(pl2)\n",
    "    if pl1_output is None:\n",
    "        print(\"Player 1 Lost the Game\")\n",
    "        return \"Player 2\"\n",
    "    else:\n",
    "        print(f\"Player 1 Output is: {pl1_output}\")\n",
    "    if pl2_output is None:\n",
    "        print(\"Player 2 Lost the Game\")\n",
    "        return \"player 1\"\n",
    "    else:    \n",
    "        print(f\"player 2 output is: {pl2_output}\")\n",
    "while True:    \n",
    "    player_1 = int(input(\"It's player 1 turn enter a integer value\"))\n",
    "    player_2 = int(input(\"It's Second player turn enter an interger value\")) \n",
    "\n",
    "    winner = fizz_buzz_game(player_1,player_2)\n",
    "    if winner:\n",
    "        print(f\"{winner} is the winner!\")\n",
    "        break"
   ]
  },
  {
   "cell_type": "code",
   "execution_count": null,
   "metadata": {},
   "outputs": [],
   "source": []
  }
 ],
 "metadata": {
  "kernelspec": {
   "display_name": "Python 3",
   "language": "python",
   "name": "python3"
  },
  "language_info": {
   "codemirror_mode": {
    "name": "ipython",
    "version": 3
   },
   "file_extension": ".py",
   "mimetype": "text/x-python",
   "name": "python",
   "nbconvert_exporter": "python",
   "pygments_lexer": "ipython3",
   "version": "3.12.6"
  }
 },
 "nbformat": 4,
 "nbformat_minor": 2
}
