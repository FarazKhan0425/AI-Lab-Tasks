{
 "cells": [
  {
   "cell_type": "code",
   "execution_count": 5,
   "metadata": {},
   "outputs": [
    {
     "name": "stdout",
     "output_type": "stream",
     "text": [
      "\n",
      "Average budget of all movies: $544200253.75\n",
      "the black man has a budget of $3020102030, which is $2475901776.25 higher than the average.\n",
      "\n",
      "Movies higher then average: 1\n",
      "('Eternal Sunshine of the Spotless Mind', 20000000)\n",
      "('Memento', 9000000)\n",
      "('Requiem for a Dream', 4500000)\n",
      "('Pirates of the Caribbean: On Stranger Tides', 379000000)\n",
      "('Avengers: Age of Ultron', 365000000)\n",
      "('Avengers: Endgame', 356000000)\n",
      "('Incredibles 2', 200000000)\n",
      "('the black man', 3020102030)\n"
     ]
    }
   ],
   "source": [
    "def avg_bgt(movies):\n",
    "    total_budget = sum(budget for _, budget in movies)\n",
    "    average = total_budget / len(movies)\n",
    "    return average\n",
    "\n",
    "def high_bgt_movies(movies, average):\n",
    "    high_budget_movies = []\n",
    "    for name, budget in movies:\n",
    "        if budget > average:\n",
    "            high_budget_movies.append((name, budget))\n",
    "    \n",
    "    for name, budget in high_budget_movies:\n",
    "        print(f\"{name} has a budget of ${budget}, which is ${budget - average} higher than the average.\")\n",
    "\n",
    "    return len(high_budget_movies)\n",
    "\n",
    "def add_movies(movies):\n",
    "    add = int(input(\"Enter num of movies? \"))\n",
    "    for i in range(add):\n",
    "        name = input(\"movie name: \")\n",
    "        budget = int(input(\"movie budget: \"))\n",
    "        movies.append((name, budget))\n",
    "\n",
    "def main():\n",
    "    movies = [\n",
    "        (\"Eternal Sunshine of the Spotless Mind\", 20000000),\n",
    "        (\"Memento\", 9000000),\n",
    "        (\"Requiem for a Dream\", 4500000),\n",
    "        (\"Pirates of the Caribbean: On Stranger Tides\", 379000000),\n",
    "        (\"Avengers: Age of Ultron\", 365000000),\n",
    "        (\"Avengers: Endgame\", 356000000),\n",
    "        (\"Incredibles 2\", 200000000)\n",
    "    ]\n",
    "\n",
    "    add = input(\"If you want to add more? (yes/no): \").strip().lower()\n",
    "    if add == 'yes':\n",
    "        add_movies(movies)\n",
    "\n",
    "    average = avg_bgt(movies)\n",
    "    print(f\"\\nAverage budget of all movies: ${average}\")\n",
    "\n",
    "    high_bgt_movie = high_bgt_movies(movies, average)\n",
    "    print(f\"\\nMovies higher then average: {high_bgt_movie}\")\n",
    "    for i in movies:\n",
    "        print(i)\n",
    "main()\n"
   ]
  },
  {
   "cell_type": "code",
   "execution_count": null,
   "metadata": {},
   "outputs": [],
   "source": []
  }
 ],
 "metadata": {
  "kernelspec": {
   "display_name": "Python 3",
   "language": "python",
   "name": "python3"
  },
  "language_info": {
   "codemirror_mode": {
    "name": "ipython",
    "version": 3
   },
   "file_extension": ".py",
   "mimetype": "text/x-python",
   "name": "python",
   "nbconvert_exporter": "python",
   "pygments_lexer": "ipython3",
   "version": "3.12.6"
  }
 },
 "nbformat": 4,
 "nbformat_minor": 2
}
