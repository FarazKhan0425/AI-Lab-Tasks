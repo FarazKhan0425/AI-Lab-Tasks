{
 "cells": [
  {
   "cell_type": "code",
   "execution_count": 1,
   "metadata": {},
   "outputs": [
    {
     "name": "stdout",
     "output_type": "stream",
     "text": [
      "Hello World\n"
     ]
    }
   ],
   "source": [
    "print(\"Hello World\")"
   ]
  },
  {
   "cell_type": "code",
   "execution_count": 8,
   "metadata": {},
   "outputs": [],
   "source": [
    "class SimpleReflexAgent:\n",
    "    def __init__(self, temp):\n",
    "        self.desired_temp = temp\n",
    "        self.history = []\n",
    "\n",
    "    def History(self):\n",
    "        if not self.history:\n",
    "            print(\"No History available.\")\n",
    "        else:\n",
    "            print(\"Your History:\")\n",
    "            for i, hist in enumerate(self.history, 1):\n",
    "                print(f\"{i}. {hist}\")\n",
    "\n",
    "\n",
    "    def perceive(self, current_temp):\n",
    "        self.current_temp = current_temp\n",
    "\n",
    "    def act(self):\n",
    "        if self.current_temp > self.desired_temp:\n",
    "            action = \"Turn on the Heater\"\n",
    "            self.history.append(self.current_temp)\n",
    "            self.history.append(self.desired_temp)\n",
    "        else:\n",
    "            action = \"Turn off the Heater\"\n",
    "            self.history.append(self.current_temp)\n",
    "            self.history.append(self.desired_temp)\n",
    "        return action"
   ]
  },
  {
   "cell_type": "code",
   "execution_count": 9,
   "metadata": {},
   "outputs": [],
   "source": [
    "room = {\n",
    "    \"living room\" : 30,\n",
    "    \"Kitchen\" : 40,\n",
    "    \"Bedroom\" : 20\n",
    "}"
   ]
  },
  {
   "cell_type": "code",
   "execution_count": 10,
   "metadata": {},
   "outputs": [
    {
     "name": "stdout",
     "output_type": "stream",
     "text": [
      "Your History:\n",
      "1. 16\n",
      "2. 22\n"
     ]
    }
   ],
   "source": [
    "agent = SimpleReflexAgent(22)\n",
    "agent.perceive(16)\n",
    "agent.act()\n",
    "agent.History()"
   ]
  },
  {
   "cell_type": "code",
   "execution_count": 4,
   "metadata": {},
   "outputs": [
    {
     "name": "stdout",
     "output_type": "stream",
     "text": [
      "living room Current Temp: 30 ==> Turn on the Heater\n",
      "Kitchen Current Temp: 40 ==> Turn on the Heater\n",
      "Bedroom Current Temp: 20 ==> Turn off the Heater\n"
     ]
    }
   ],
   "source": [
    "for room,temp in room.items():\n",
    "    agent.perceive(temp)\n",
    "    print(f\"{room} Current Temp: {temp} ==> {agent.act()}\")"
   ]
  },
  {
   "cell_type": "code",
   "execution_count": 31,
   "metadata": {},
   "outputs": [],
   "source": [
    "# simple make this SimpleReflexAgent to make it model base reflex agent\n",
    "# simple put memory concept to check the previous data"
   ]
  },
  {
   "cell_type": "markdown",
   "metadata": {},
   "source": [
    "## Lab_03 Task"
   ]
  },
  {
   "cell_type": "markdown",
   "metadata": {},
   "source": [
    "### We have only put the memory concept means put the hostory"
   ]
  },
  {
   "cell_type": "code",
   "execution_count": 29,
   "metadata": {},
   "outputs": [],
   "source": [
    "class model_base:\n",
    "    def __init__(self,temp):\n",
    "        self.desired_temp = temp\n",
    "        self.previous = None\n",
    "        self.history = []\n",
    " \n",
    "    def History(self):\n",
    "        if not self.history:\n",
    "            print(\"No available history.\")\n",
    "        else:\n",
    "            print(\"Your History:\")\n",
    "            for i, (current_temp,action) in enumerate(self.history, 1):\n",
    "                print(f\"{i}.Current = {current_temp}, action = {action}\")\n",
    "\n",
    "    def perceive(self, current_temp):\n",
    "        self.current_temp = current_temp\n",
    "    def act(self):\n",
    "        action = \"\"\n",
    "        if self.current_temp != self.previous or self.previous is None:\n",
    "            if self.current_temp > self.desired_temp:\n",
    "                action = \"Turn on the Heater\"\n",
    "            else:\n",
    "                action = \"Turn off the Heater\"\n",
    "            self.history.append((self.current_temp,action))\n",
    "            self.previous = self.current_temp\n",
    "        return action"
   ]
  },
  {
   "cell_type": "code",
   "execution_count": 30,
   "metadata": {},
   "outputs": [],
   "source": [
    "room = {\n",
    "    \"living room\" : 30,\n",
    "    \"Kitchen\" : 40,\n",
    "    \"Bedroom\" : 20\n",
    "}"
   ]
  },
  {
   "cell_type": "code",
   "execution_count": 31,
   "metadata": {},
   "outputs": [
    {
     "name": "stdout",
     "output_type": "stream",
     "text": [
      "living room Current Temp: 30 ==> Turn on the Heater\n",
      "Kitchen Current Temp: 40 ==> Turn on the Heater\n",
      "Bedroom Current Temp: 20 ==> Turn off the Heater\n",
      "Your History:\n",
      "1.Current = 30, action = Turn on the Heater\n",
      "2.Current = 40, action = Turn on the Heater\n",
      "3.Current = 20, action = Turn off the Heater\n"
     ]
    }
   ],
   "source": [
    "agent = model_base(22)\n",
    "for room_name, temp in room.items():\n",
    "    agent.perceive(temp)\n",
    "    print(f\"{room_name} Current Temp: {temp} ==> {agent.act()}\")\n",
    "\n",
    "agent.History()"
   ]
  }
 ],
 "metadata": {
  "kernelspec": {
   "display_name": "Python 3",
   "language": "python",
   "name": "python3"
  },
  "language_info": {
   "codemirror_mode": {
    "name": "ipython",
    "version": 3
   },
   "file_extension": ".py",
   "mimetype": "text/x-python",
   "name": "python",
   "nbconvert_exporter": "python",
   "pygments_lexer": "ipython3",
   "version": "3.12.6"
  }
 },
 "nbformat": 4,
 "nbformat_minor": 2
}
