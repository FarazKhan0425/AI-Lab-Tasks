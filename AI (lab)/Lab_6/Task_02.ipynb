{
 "cells": [
  {
   "cell_type": "code",
   "execution_count": 3,
   "metadata": {},
   "outputs": [
    {
     "name": "stdout",
     "output_type": "stream",
     "text": [
      "1 2 3 4 5 "
     ]
    }
   ],
   "source": [
    "# BFS with Queue & Node\n",
    "class Node:\n",
    "    def __init__(self, value):\n",
    "        self.value = value \n",
    "        self.left = None    \n",
    "        self.right = None   \n",
    "\n",
    "def bfs(root):\n",
    "    if root is None:\n",
    "        return\n",
    "    \n",
    "    queue = [root] \n",
    "    while queue:\n",
    "        curr_node = queue.pop(0)\n",
    "        \n",
    "        print(curr_node.value, end=\" \")\n",
    "\n",
    "        if curr_node.left:\n",
    "            queue.append(curr_node.left)\n",
    "\n",
    "        if curr_node.right:\n",
    "            queue.append(curr_node.right)\n",
    "\n",
    "\n",
    "root = Node(1)\n",
    "root.left = Node(2)\n",
    "root.right = Node(3)\n",
    "root.left.left = Node(4)\n",
    "root.left.right = Node(5)\n",
    "\n",
    "bfs(root)\n"
   ]
  },
  {
   "cell_type": "code",
   "execution_count": null,
   "metadata": {},
   "outputs": [],
   "source": []
  }
 ],
 "metadata": {
  "kernelspec": {
   "display_name": "Python 3",
   "language": "python",
   "name": "python3"
  },
  "language_info": {
   "codemirror_mode": {
    "name": "ipython",
    "version": 3
   },
   "file_extension": ".py",
   "mimetype": "text/x-python",
   "name": "python",
   "nbconvert_exporter": "python",
   "pygments_lexer": "ipython3",
   "version": "3.12.7"
  }
 },
 "nbformat": 4,
 "nbformat_minor": 2
}
