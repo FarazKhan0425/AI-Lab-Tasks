{
 "cells": [
  {
   "cell_type": "code",
   "execution_count": 1,
   "metadata": {},
   "outputs": [
    {
     "name": "stdout",
     "output_type": "stream",
     "text": [
      "1 2 3 4 5 "
     ]
    }
   ],
   "source": [
    "# BFS without Queue & without Node\n",
    "def bfs(tree):\n",
    "    current_level = [0] \n",
    "\n",
    "    while current_level:\n",
    "        next_level = [] \n",
    "        for node in current_level:\n",
    "            print(tree[node][0], end=\" \")\n",
    "\n",
    "            if len(tree[node]) > 1:  \n",
    "                next_level.extend(tree[node][1:])\n",
    "\n",
    "        current_level = next_level \n",
    "\n",
    "\n",
    "tree = [\n",
    "    [1, 1, 2],  \n",
    "    [2, 3, 4],  \n",
    "    [3],      \n",
    "    [4],       \n",
    "    [5]       \n",
    "]\n",
    "\n",
    "bfs(tree)\n"
   ]
  },
  {
   "cell_type": "code",
   "execution_count": null,
   "metadata": {},
   "outputs": [],
   "source": []
  }
 ],
 "metadata": {
  "kernelspec": {
   "display_name": "Python 3",
   "language": "python",
   "name": "python3"
  },
  "language_info": {
   "codemirror_mode": {
    "name": "ipython",
    "version": 3
   },
   "file_extension": ".py",
   "mimetype": "text/x-python",
   "name": "python",
   "nbconvert_exporter": "python",
   "pygments_lexer": "ipython3",
   "version": "3.12.7"
  }
 },
 "nbformat": 4,
 "nbformat_minor": 2
}
