{
 "cells": [
  {
   "cell_type": "markdown",
   "metadata": {},
   "source": [
    "# Lab_04 Tasks"
   ]
  },
  {
   "cell_type": "markdown",
   "metadata": {},
   "source": [
    "### Task 1 (LUHN Algorithm)"
   ]
  },
  {
   "cell_type": "code",
   "execution_count": 45,
   "metadata": {},
   "outputs": [
    {
     "name": "stdout",
     "output_type": "stream",
     "text": [
      "[5, 5, 9, 1, 7, 7, 0, 0, 0, 8, 0, 7, 2, 9, 9, 'X']\n",
      "\n",
      "['X', 9, 9, 2, 7, 0, 8, 0, 0, 0, 7, 7, 1, 9, 5, 5]\n",
      "\n",
      "['X', 18, 9, 4, 7, 0, 8, 0, 0, 0, 7, 14, 1, 18, 5, 10]\n",
      "['X', 9, 9, 4, 7, 0, 8, 0, 0, 0, 7, 5, 1, 9, 5, 1]\n",
      "[5, 9, 9, 4, 7, 0, 8, 0, 0, 0, 7, 5, 1, 9, 5, 1]\n",
      "Card is valid\n"
     ]
    }
   ],
   "source": [
    "class Card:\n",
    "    def __init__(self,card_number):\n",
    "        self.card_number = card_number\n",
    "\n",
    "    def replace(self):\n",
    "        self.card_number[-1] = 'X'\n",
    "        print(self.card_number)\n",
    "\n",
    "    def reverse(self):\n",
    "        self.x = self.card_number[::-1]\n",
    "        print(self.x)\n",
    "\n",
    "    def even_double(self):\n",
    "        num = 1\n",
    "        for i in range(8):\n",
    "            self.x[num] *= 2\n",
    "            num += 2\n",
    "        print(self.x)\n",
    "        return self.x\n",
    "    \n",
    "    def minus(self):\n",
    "        for i in range(1,len(self.x)):\n",
    "            if self.x[i] > 9:\n",
    "                self.x[i] -= 9\n",
    "        print(self.x)\n",
    "        return self.x\n",
    "    \n",
    "    def replace_again(self):\n",
    "        self.x[0] = 5\n",
    "        print(self.x)\n",
    "        return self.x\n",
    "    \n",
    "    def add(self):\n",
    "        self.total = sum(self.x)\n",
    "        return self.total\n",
    "    \n",
    "    def validation(self):\n",
    "        if self.total % 10 == 0:\n",
    "            print(\"Card is valid\")\n",
    "        else:\n",
    "            print(\"Card is Invalid\")\n",
    "\n",
    "obj = Card([5,5,9,1,7,7,0,0,0,8,0,7,2,9,9,5])\n",
    "obj.replace()\n",
    "print()\n",
    "obj.reverse()\n",
    "print()\n",
    "obj.even_double()\n",
    "# print()\n",
    "obj.minus()\n",
    "obj.replace_again()\n",
    "obj.add()\n",
    "obj.validation()"
   ]
  },
  {
   "cell_type": "markdown",
   "metadata": {},
   "source": [
    "### Task 2 (Remove Puncuations)"
   ]
  },
  {
   "cell_type": "code",
   "execution_count": 4,
   "metadata": {},
   "outputs": [
    {
     "name": "stdout",
     "output_type": "stream",
     "text": [
      "F,a.r/a'z-\n",
      "['F', 'a', 'r', 'a', 'z']\n"
     ]
    }
   ],
   "source": [
    "def remove(sen):\n",
    "    puncuations = '''!()-[]{};:'\".,<>./\\\\?@#$%^&*_~'''\n",
    "    result = []\n",
    "    for char in sen:\n",
    "        if char not in puncuations:\n",
    "            result.append(char)\n",
    "    print(result)\n",
    "x = input(\"Enter a sentence with punctuations:\")\n",
    "print(f\"{x}\")\n",
    "remove(x)"
   ]
  },
  {
   "cell_type": "markdown",
   "metadata": {},
   "source": [
    "### Task 3 (Alphabetic order)"
   ]
  },
  {
   "cell_type": "code",
   "execution_count": 47,
   "metadata": {},
   "outputs": [
    {
     "name": "stdout",
     "output_type": "stream",
     "text": [
      "Sorted words in alphabetical order: ['farazulhassan', 'is', 'my', 'name']\n"
     ]
    }
   ],
   "source": [
    "def sort(words):\n",
    "    n = len(words)\n",
    "    for i in range(n - 1):\n",
    "        for j in range(n - 1 - i):\n",
    "            if words[j] > words[j + 1]:\n",
    "                words[j], words[j + 1] = words[j + 1], words[j]\n",
    "    return words\n",
    "\n",
    "user_input = input(\"Enter a sentence: \").split()\n",
    "sorted_words = sort(user_input)\n",
    "\n",
    "print(\"Sorted words in alphabetical order:\", sorted_words)\n"
   ]
  },
  {
   "cell_type": "code",
   "execution_count": null,
   "metadata": {},
   "outputs": [],
   "source": []
  }
 ],
 "metadata": {
  "kernelspec": {
   "display_name": "Python 3",
   "language": "python",
   "name": "python3"
  },
  "language_info": {
   "codemirror_mode": {
    "name": "ipython",
    "version": 3
   },
   "file_extension": ".py",
   "mimetype": "text/x-python",
   "name": "python",
   "nbconvert_exporter": "python",
   "pygments_lexer": "ipython3",
   "version": "3.12.6"
  }
 },
 "nbformat": 4,
 "nbformat_minor": 2
}
