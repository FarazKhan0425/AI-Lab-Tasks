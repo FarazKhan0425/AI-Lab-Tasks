{
 "cells": [
  {
   "cell_type": "code",
   "execution_count": 1,
   "metadata": {},
   "outputs": [],
   "source": [
    "# : DFS with Stack & Node"
   ]
  },
  {
   "cell_type": "code",
   "execution_count": 3,
   "metadata": {},
   "outputs": [
    {
     "name": "stdout",
     "output_type": "stream",
     "text": [
      "DFS Traversal:\n",
      "1\n",
      "3\n",
      "2\n",
      "5\n",
      "4\n"
     ]
    }
   ],
   "source": [
    "class Node:\n",
    "    def __init__(self, value):\n",
    "        self.value = value\n",
    "        self.children = [] \n",
    "\n",
    "    def add(self, child_node):\n",
    "        self.children.append(child_node)\n",
    "\n",
    "def dfs(start_node):\n",
    "    stack = []\n",
    "    visited = set()\n",
    "\n",
    "    stack.append(start_node)\n",
    "\n",
    "    while stack:\n",
    "        current_node = stack.pop()\n",
    "\n",
    "        if current_node not in visited: \n",
    "            print(current_node.value) \n",
    "            visited.add(current_node)  \n",
    "\n",
    "            for child in current_node.children:\n",
    "                stack.append(child)\n",
    "\n",
    "\n",
    "Parent = Node(1)\n",
    "child1 = Node(2)\n",
    "child2 = Node(3)\n",
    "child3 = Node(4)\n",
    "child4 = Node(5)\n",
    "\n",
    "Parent.add(child1)\n",
    "Parent.add(child2)\n",
    "child1.add(child3)\n",
    "child1.add(child4)\n",
    "\n",
    "print(\"DFS Traversal:\")\n",
    "dfs(Parent)\n"
   ]
  },
  {
   "cell_type": "code",
   "execution_count": null,
   "metadata": {},
   "outputs": [],
   "source": []
  }
 ],
 "metadata": {
  "kernelspec": {
   "display_name": "Python 3",
   "language": "python",
   "name": "python3"
  },
  "language_info": {
   "codemirror_mode": {
    "name": "ipython",
    "version": 3
   },
   "file_extension": ".py",
   "mimetype": "text/x-python",
   "name": "python",
   "nbconvert_exporter": "python",
   "pygments_lexer": "ipython3",
   "version": "3.12.7"
  }
 },
 "nbformat": 4,
 "nbformat_minor": 2
}
